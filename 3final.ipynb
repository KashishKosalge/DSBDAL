{
  "nbformat": 4,
  "nbformat_minor": 0,
  "metadata": {
    "colab": {
      "provenance": []
    },
    "kernelspec": {
      "name": "python3",
      "display_name": "Python 3"
    },
    "language_info": {
      "name": "python"
    }
  },
  "cells": [
    {
      "cell_type": "code",
      "execution_count": 1,
      "metadata": {
        "id": "KJYsjHFur1tR"
      },
      "outputs": [],
      "source": [
        "import pandas as pd\n",
        "import numpy as np"
      ]
    },
    {
      "cell_type": "code",
      "source": [
        "df = pd.read_csv('Employee_Salary.csv')"
      ],
      "metadata": {
        "id": "_3FC-WcDsHbS"
      },
      "execution_count": 2,
      "outputs": []
    },
    {
      "cell_type": "code",
      "source": [
        "# Display basic information\n",
        "print('Information of Dataset:\\n', df.info)\n",
        "print('Shape of Dataset (row x column): ', df.shape)\n",
        "print('Columns Name: ', df.columns)\n",
        "print('Total elements in dataset:', df.size)\n",
        "print('Datatype of attributes (columns):', df.dtypes)\n",
        "print('First 5 rows:\\n', df.head().T)\n",
        "print('Last 5 rows:\\n',df.tail().T)\n",
        "print('Any 5 rows:\\n',df.sample(5).T)"
      ],
      "metadata": {
        "colab": {
          "base_uri": "https://localhost:8080/"
        },
        "id": "MzowDNJ3sLkn",
        "outputId": "68d1c6c6-8e7c-4728-eec0-4080bcdf2246"
      },
      "execution_count": 3,
      "outputs": [
        {
          "output_type": "stream",
          "name": "stdout",
          "text": [
            "Information of Dataset:\n",
            " <bound method DataFrame.info of     ID  Experience  Age  Gender    Salary\n",
            "0    1         5.0   28  Female    250000\n",
            "1    2         1.0   21    Male     50000\n",
            "2    3         3.0   23  Female    170000\n",
            "3    4         2.0   22    Male     25000\n",
            "4    5         1.0   17    Male     10000\n",
            "5    6        25.0   62    Male   5001000\n",
            "6    7        19.0   54  Female    800000\n",
            "7    8         2.0   21  Female      9000\n",
            "8    9        10.0   36  Female     61500\n",
            "9   10        15.0   54  Female    650000\n",
            "10  11         4.0   26  Female    250000\n",
            "11  12         6.0   29    Male   1400000\n",
            "12  13        14.0   39    Male   6000050\n",
            "13  14         NaN   40    Male    220100\n",
            "14  15         2.0   23    Male      7500\n",
            "15  16         4.0   27     NaN     87000\n",
            "16  17        10.0   34  Female    930000\n",
            "17  18        15.0   54  Female   7900000\n",
            "18  19         2.0   21    Male     15000\n",
            "19  20        10.0   36    Male    330000\n",
            "20  21        15.0   54    Male   6570000\n",
            "21  22         4.0   26    Male     25000\n",
            "22  23         5.0   29    Male   6845000\n",
            "23  24         1.0   21  Female      6000\n",
            "24  25         4.0   23  Female      8900\n",
            "25  26         3.0   22  Female     20000\n",
            "26  27         1.0   18    Male      3000\n",
            "27  28        27.0   62  Female  10000000\n",
            "28  29        19.0   54  Female   5000000\n",
            "29  30         2.0   21  Female      6100\n",
            "30  31        10.0   34    Male     80000\n",
            "31  32        15.0   54    Male    900000\n",
            "32  33        20.0   55  Female   1540000\n",
            "33  34        19.0   53  Female   9300000\n",
            "34  35        16.0   49    Male   7600000>\n",
            "Shape of Dataset (row x column):  (35, 5)\n",
            "Columns Name:  Index(['ID', 'Experience', 'Age', 'Gender', 'Salary'], dtype='object')\n",
            "Total elements in dataset: 175\n",
            "Datatype of attributes (columns): ID              int64\n",
            "Experience    float64\n",
            "Age             int64\n",
            "Gender         object\n",
            "Salary          int64\n",
            "dtype: object\n",
            "First 5 rows:\n",
            "                  0      1       2      3      4\n",
            "ID               1      2       3      4      5\n",
            "Experience     5.0    1.0     3.0    2.0    1.0\n",
            "Age             28     21      23     22     17\n",
            "Gender      Female   Male  Female   Male   Male\n",
            "Salary      250000  50000  170000  25000  10000\n",
            "Last 5 rows:\n",
            "                30      31       32       33       34\n",
            "ID             31      32       33       34       35\n",
            "Experience   10.0    15.0     20.0     19.0     16.0\n",
            "Age            34      54       55       53       49\n",
            "Gender       Male    Male   Female   Female     Male\n",
            "Salary      80000  900000  1540000  9300000  7600000\n",
            "Any 5 rows:\n",
            "                  17      16        27      19       28\n",
            "ID               18      17        28      20       29\n",
            "Experience     15.0    10.0      27.0    10.0     19.0\n",
            "Age              54      34        62      36       54\n",
            "Gender       Female  Female    Female    Male   Female\n",
            "Salary      7900000  930000  10000000  330000  5000000\n"
          ]
        }
      ]
    },
    {
      "cell_type": "code",
      "source": [
        "# Display Null values\n",
        "print('Total Number of Null Values in Dataset:', df.isna().sum())"
      ],
      "metadata": {
        "colab": {
          "base_uri": "https://localhost:8080/"
        },
        "id": "zBg0avk5sOGz",
        "outputId": "dc5b7655-ddbd-48ff-a352-eb17f405237e"
      },
      "execution_count": 4,
      "outputs": [
        {
          "output_type": "stream",
          "name": "stdout",
          "text": [
            "Total Number of Null Values in Dataset: ID            0\n",
            "Experience    1\n",
            "Age           0\n",
            "Gender        1\n",
            "Salary        0\n",
            "dtype: int64\n"
          ]
        }
      ]
    },
    {
      "cell_type": "code",
      "source": [
        "# Fill the missing values\n",
        "df['Gender'].fillna(df['Gender'].mode()[0], inplace=True)\n",
        "df['Experience'].fillna(df['Experience'].mean(), inplace=True)\n",
        "print('Total Number of Null Values in Dataset:', df.isna().sum())"
      ],
      "metadata": {
        "colab": {
          "base_uri": "https://localhost:8080/"
        },
        "id": "bwZ2JMyLsUTn",
        "outputId": "7255cd69-173c-4b61-9fea-65d1a5df418d"
      },
      "execution_count": 5,
      "outputs": [
        {
          "output_type": "stream",
          "name": "stdout",
          "text": [
            "Total Number of Null Values in Dataset: ID            0\n",
            "Experience    0\n",
            "Age           0\n",
            "Gender        0\n",
            "Salary        0\n",
            "dtype: int64\n"
          ]
        }
      ]
    },
    {
      "cell_type": "code",
      "source": [
        "# Display Overall Statistical information\n",
        "print('Statistical information of Numerical Columns: \\n',df.describe())"
      ],
      "metadata": {
        "colab": {
          "base_uri": "https://localhost:8080/"
        },
        "id": "RNb4S6wxsZTo",
        "outputId": "8a2d8a18-23af-46b3-b43a-f4e6b3476c3c"
      },
      "execution_count": 6,
      "outputs": [
        {
          "output_type": "stream",
          "name": "stdout",
          "text": [
            "Statistical information of Numerical Columns: \n",
            "               ID  Experience        Age        Salary\n",
            "count  35.000000   35.000000  35.000000  3.500000e+01\n",
            "mean   18.000000    9.147059  35.485714  2.059147e+06\n",
            "std    10.246951    7.546454  14.643552  3.170124e+06\n",
            "min     1.000000    1.000000  17.000000  3.000000e+03\n",
            "25%     9.500000    2.500000  22.500000  2.250000e+04\n",
            "50%    18.000000    6.000000  29.000000  2.500000e+05\n",
            "75%    26.500000   15.000000  53.500000  3.270000e+06\n",
            "max    35.000000   27.000000  62.000000  1.000000e+07\n"
          ]
        }
      ]
    },
    {
      "cell_type": "code",
      "source": [
        "# groupwise statistical information\n",
        "print('Groupwise Statistical Summary....')\n",
        "print('\\n-------------------------- Experience -----------------------\\n')\n",
        "print(df['Experience'].groupby(df['Gender']).describe())\n",
        "print('\\n-------------------------- Age -----------------------\\n')\n",
        "print(df['Age'].groupby(df['Gender']).describe())\n",
        "print('\\n-------------------------- Salary -----------------------\\n')\n",
        "print(df['Salary'].groupby(df['Gender']).describe())"
      ],
      "metadata": {
        "colab": {
          "base_uri": "https://localhost:8080/"
        },
        "id": "xM7ES1CfscuW",
        "outputId": "626c34ae-fce8-44a5-dedc-0965c2f912d5"
      },
      "execution_count": 7,
      "outputs": [
        {
          "output_type": "stream",
          "name": "stdout",
          "text": [
            "Groupwise Statistical Summary....\n",
            "\n",
            "-------------------------- Experience -----------------------\n",
            "\n",
            "        count       mean       std  min   25%  50%   75%   max\n",
            "Gender                                                        \n",
            "Female   18.0  10.111111  8.123234  1.0  3.25  7.5  18.0  27.0\n",
            "Male     17.0   8.126298  6.982320  1.0  2.00  6.0  14.0  25.0\n",
            "\n",
            "-------------------------- Age -----------------------\n",
            "\n",
            "        count       mean        std   min   25%   50%   75%   max\n",
            "Gender                                                           \n",
            "Female   18.0  37.111111  15.449686  21.0  23.0  31.0  54.0  62.0\n",
            "Male     17.0  33.764706  13.997899  17.0  22.0  29.0  40.0  62.0\n",
            "\n",
            "-------------------------- Salary -----------------------\n",
            "\n",
            "        count          mean           std     min      25%       50%  \\\n",
            "Gender                                                                 \n",
            "Female   18.0  2.054917e+06  3.450120e+06  6000.0  30375.0  250000.0   \n",
            "Male     17.0  2.063626e+06  2.950974e+06  3000.0  25000.0  220100.0   \n",
            "\n",
            "              75%         max  \n",
            "Gender                         \n",
            "Female  1387500.0  10000000.0  \n",
            "Male    5001000.0   7600000.0  \n"
          ]
        }
      ]
    },
    {
      "cell_type": "code",
      "source": [
        "df = pd.read_csv('iris.csv')"
      ],
      "metadata": {
        "id": "_pOuhkUBspKo"
      },
      "execution_count": 9,
      "outputs": []
    },
    {
      "cell_type": "code",
      "source": [
        "# When axis=0, it indicates that the operation should be performed along the rows (vertically).\n",
        "# When axis=1, it indicates that the operation should be performed along the columns (horizontally).\n",
        "df = df.drop('Id', axis=1)"
      ],
      "metadata": {
        "id": "oY4z1d7Fst0F"
      },
      "execution_count": null,
      "outputs": []
    },
    {
      "cell_type": "code",
      "source": [
        "df.columns = ('SL', 'SW', 'PL', 'PW', 'Species')\n",
        "print(df.head().T)"
      ],
      "metadata": {
        "colab": {
          "base_uri": "https://localhost:8080/"
        },
        "id": "P4wBd_dqs2N5",
        "outputId": "a00d6a21-6f49-4ca9-eae9-fbe407d13b1d"
      },
      "execution_count": 11,
      "outputs": [
        {
          "output_type": "stream",
          "name": "stdout",
          "text": [
            "              0       1       2       3       4\n",
            "SL          5.1     4.9     4.7     4.6     5.0\n",
            "SW          3.5     3.0     3.2     3.1     3.6\n",
            "PL          1.4     1.4     1.3     1.5     1.4\n",
            "PW          0.2     0.2     0.2     0.2     0.2\n",
            "Species  Setosa  Setosa  Setosa  Setosa  Setosa\n"
          ]
        }
      ]
    },
    {
      "cell_type": "code",
      "source": [
        "# Display Statistical information\n",
        "print('Statistical information of Numerical Columns: \\n',df.describe())\n",
        "print('Groupwise Statistical Summary....')\n",
        "print('\\n-------------------------- Sepal Length -----------------------\\n')\n",
        "print(df['SL'].groupby(df['Species']).describe())\n",
        "print('\\n-------------------------- Sepal Width -----------------------\\n')\n",
        "print(df['SW'].groupby(df['Species']).describe())\n",
        "print('\\n-------------------------- Petal Length -----------------------\\n')\n",
        "print(df['PL'].groupby(df['Species']).describe())\n",
        "print('\\n-------------------------- Petal Width -----------------------\\n')\n",
        "print(df['SW'].groupby(df['Species']).describe())"
      ],
      "metadata": {
        "colab": {
          "base_uri": "https://localhost:8080/"
        },
        "id": "yBBp-Gros5LI",
        "outputId": "ecd822fd-4576-44f6-944b-d9753ac8e532"
      },
      "execution_count": 12,
      "outputs": [
        {
          "output_type": "stream",
          "name": "stdout",
          "text": [
            "Statistical information of Numerical Columns: \n",
            "                SL          SW          PL          PW\n",
            "count  148.000000  150.000000  150.000000  148.000000\n",
            "mean     5.856757    3.054000    3.758667    1.197973\n",
            "std      0.825459    0.433594    1.764420    0.760278\n",
            "min      4.300000    2.000000    1.000000    0.100000\n",
            "25%      5.100000    2.800000    1.600000    0.300000\n",
            "50%      5.800000    3.000000    4.350000    1.300000\n",
            "75%      6.400000    3.300000    5.100000    1.800000\n",
            "max      7.900000    4.400000    6.900000    2.500000\n",
            "Groupwise Statistical Summary....\n",
            "\n",
            "-------------------------- Sepal Length -----------------------\n",
            "\n",
            "            count    mean       std  min    25%  50%  75%  max\n",
            "Species                                                       \n",
            "Setosa       48.0  5.0125  0.358261  4.3  4.800  5.0  5.2  5.8\n",
            "Versicolor   50.0  5.9360  0.516171  4.9  5.600  5.9  6.3  7.0\n",
            "Virginica    50.0  6.5880  0.635880  4.9  6.225  6.5  6.9  7.9\n",
            "\n",
            "-------------------------- Sepal Width -----------------------\n",
            "\n",
            "            count   mean       std  min    25%  50%    75%  max\n",
            "Species                                                        \n",
            "Setosa       50.0  3.418  0.381024  2.3  3.125  3.4  3.675  4.4\n",
            "Versicolor   50.0  2.770  0.313798  2.0  2.525  2.8  3.000  3.4\n",
            "Virginica    50.0  2.974  0.322497  2.2  2.800  3.0  3.175  3.8\n",
            "\n",
            "-------------------------- Petal Length -----------------------\n",
            "\n",
            "            count   mean       std  min  25%   50%    75%  max\n",
            "Species                                                       \n",
            "Setosa       50.0  1.464  0.173511  1.0  1.4  1.50  1.575  1.9\n",
            "Versicolor   50.0  4.260  0.469911  3.0  4.0  4.35  4.600  5.1\n",
            "Virginica    50.0  5.552  0.551895  4.5  5.1  5.55  5.875  6.9\n",
            "\n",
            "-------------------------- Petal Width -----------------------\n",
            "\n",
            "            count   mean       std  min    25%  50%    75%  max\n",
            "Species                                                        \n",
            "Setosa       50.0  3.418  0.381024  2.3  3.125  3.4  3.675  4.4\n",
            "Versicolor   50.0  2.770  0.313798  2.0  2.525  2.8  3.000  3.4\n",
            "Virginica    50.0  2.974  0.322497  2.2  2.800  3.0  3.175  3.8\n"
          ]
        }
      ]
    }
  ]
}